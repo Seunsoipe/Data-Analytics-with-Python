{
  "nbformat": 4,
  "nbformat_minor": 0,
  "metadata": {
    "colab": {
      "provenance": [],
      "collapsed_sections": [],
      "authorship_tag": "ABX9TyNqZFI2K2H9eEnLxRJe1aNU",
      "include_colab_link": true
    },
    "kernelspec": {
      "name": "python3",
      "display_name": "Python 3"
    },
    "language_info": {
      "name": "python"
    }
  },
  "cells": [
    {
      "cell_type": "markdown",
      "metadata": {
        "id": "view-in-github",
        "colab_type": "text"
      },
      "source": [
        "<a href=\"https://colab.research.google.com/github/Seunsoipe/Data-Analytics-with-Python/blob/main/Data_Analytics_with_Python_Final_Checkpoint.ipynb\" target=\"_parent\"><img src=\"https://colab.research.google.com/assets/colab-badge.svg\" alt=\"Open In Colab\"/></a>"
      ]
    },
    {
      "cell_type": "markdown",
      "source": [
        "Objective\n",
        "\n",
        "The aim of this checkpoint is to analyze credit scoring dataset in order to gain information from our data.\n",
        "\n",
        "Instructions\n",
        "\n",
        "Part 1: Univariate analysis\n",
        "\n",
        "Analyze the variable and conclude\n",
        "\n",
        "Analyze the Income variable and conclude.\n",
        "\n",
        "Analyze variable from your choice and conclude.(bonus)\n",
        "\n",
        "Part 2: Bivariate analysis\n",
        "\n",
        "Study the relation between the variable Amount and Income by calculating the correlation coefficient applying the linear regression\n",
        "\n",
        "Part 3: Multivariate analysis\n",
        "\n",
        "Extract numerical data and apply the principal component analysis\n",
        "Select categorical variables and apply MCA "
      ],
      "metadata": {
        "id": "-r5j9dIr8jtx"
      }
    },
    {
      "cell_type": "code",
      "execution_count": 1,
      "metadata": {
        "id": "ROJ-0eUL0Zjz"
      },
      "outputs": [],
      "source": [
        "import pandas as pd"
      ]
    },
    {
      "cell_type": "code",
      "source": [
        "from google.colab import files \n",
        "\n",
        "uploaded = files.upload()"
      ],
      "metadata": {
        "colab": {
          "base_uri": "https://localhost:8080/",
          "height": 74
        },
        "id": "g3In7vUZ0gL3",
        "outputId": "1112993c-1b4b-4909-c3c2-5bf1943c16ca"
      },
      "execution_count": 2,
      "outputs": [
        {
          "output_type": "display_data",
          "data": {
            "text/plain": [
              "<IPython.core.display.HTML object>"
            ],
            "text/html": [
              "\n",
              "     <input type=\"file\" id=\"files-2ada6801-839d-4088-834d-dd165c8ee6a4\" name=\"files[]\" multiple disabled\n",
              "        style=\"border:none\" />\n",
              "     <output id=\"result-2ada6801-839d-4088-834d-dd165c8ee6a4\">\n",
              "      Upload widget is only available when the cell has been executed in the\n",
              "      current browser session. Please rerun this cell to enable.\n",
              "      </output>\n",
              "      <script>// Copyright 2017 Google LLC\n",
              "//\n",
              "// Licensed under the Apache License, Version 2.0 (the \"License\");\n",
              "// you may not use this file except in compliance with the License.\n",
              "// You may obtain a copy of the License at\n",
              "//\n",
              "//      http://www.apache.org/licenses/LICENSE-2.0\n",
              "//\n",
              "// Unless required by applicable law or agreed to in writing, software\n",
              "// distributed under the License is distributed on an \"AS IS\" BASIS,\n",
              "// WITHOUT WARRANTIES OR CONDITIONS OF ANY KIND, either express or implied.\n",
              "// See the License for the specific language governing permissions and\n",
              "// limitations under the License.\n",
              "\n",
              "/**\n",
              " * @fileoverview Helpers for google.colab Python module.\n",
              " */\n",
              "(function(scope) {\n",
              "function span(text, styleAttributes = {}) {\n",
              "  const element = document.createElement('span');\n",
              "  element.textContent = text;\n",
              "  for (const key of Object.keys(styleAttributes)) {\n",
              "    element.style[key] = styleAttributes[key];\n",
              "  }\n",
              "  return element;\n",
              "}\n",
              "\n",
              "// Max number of bytes which will be uploaded at a time.\n",
              "const MAX_PAYLOAD_SIZE = 100 * 1024;\n",
              "\n",
              "function _uploadFiles(inputId, outputId) {\n",
              "  const steps = uploadFilesStep(inputId, outputId);\n",
              "  const outputElement = document.getElementById(outputId);\n",
              "  // Cache steps on the outputElement to make it available for the next call\n",
              "  // to uploadFilesContinue from Python.\n",
              "  outputElement.steps = steps;\n",
              "\n",
              "  return _uploadFilesContinue(outputId);\n",
              "}\n",
              "\n",
              "// This is roughly an async generator (not supported in the browser yet),\n",
              "// where there are multiple asynchronous steps and the Python side is going\n",
              "// to poll for completion of each step.\n",
              "// This uses a Promise to block the python side on completion of each step,\n",
              "// then passes the result of the previous step as the input to the next step.\n",
              "function _uploadFilesContinue(outputId) {\n",
              "  const outputElement = document.getElementById(outputId);\n",
              "  const steps = outputElement.steps;\n",
              "\n",
              "  const next = steps.next(outputElement.lastPromiseValue);\n",
              "  return Promise.resolve(next.value.promise).then((value) => {\n",
              "    // Cache the last promise value to make it available to the next\n",
              "    // step of the generator.\n",
              "    outputElement.lastPromiseValue = value;\n",
              "    return next.value.response;\n",
              "  });\n",
              "}\n",
              "\n",
              "/**\n",
              " * Generator function which is called between each async step of the upload\n",
              " * process.\n",
              " * @param {string} inputId Element ID of the input file picker element.\n",
              " * @param {string} outputId Element ID of the output display.\n",
              " * @return {!Iterable<!Object>} Iterable of next steps.\n",
              " */\n",
              "function* uploadFilesStep(inputId, outputId) {\n",
              "  const inputElement = document.getElementById(inputId);\n",
              "  inputElement.disabled = false;\n",
              "\n",
              "  const outputElement = document.getElementById(outputId);\n",
              "  outputElement.innerHTML = '';\n",
              "\n",
              "  const pickedPromise = new Promise((resolve) => {\n",
              "    inputElement.addEventListener('change', (e) => {\n",
              "      resolve(e.target.files);\n",
              "    });\n",
              "  });\n",
              "\n",
              "  const cancel = document.createElement('button');\n",
              "  inputElement.parentElement.appendChild(cancel);\n",
              "  cancel.textContent = 'Cancel upload';\n",
              "  const cancelPromise = new Promise((resolve) => {\n",
              "    cancel.onclick = () => {\n",
              "      resolve(null);\n",
              "    };\n",
              "  });\n",
              "\n",
              "  // Wait for the user to pick the files.\n",
              "  const files = yield {\n",
              "    promise: Promise.race([pickedPromise, cancelPromise]),\n",
              "    response: {\n",
              "      action: 'starting',\n",
              "    }\n",
              "  };\n",
              "\n",
              "  cancel.remove();\n",
              "\n",
              "  // Disable the input element since further picks are not allowed.\n",
              "  inputElement.disabled = true;\n",
              "\n",
              "  if (!files) {\n",
              "    return {\n",
              "      response: {\n",
              "        action: 'complete',\n",
              "      }\n",
              "    };\n",
              "  }\n",
              "\n",
              "  for (const file of files) {\n",
              "    const li = document.createElement('li');\n",
              "    li.append(span(file.name, {fontWeight: 'bold'}));\n",
              "    li.append(span(\n",
              "        `(${file.type || 'n/a'}) - ${file.size} bytes, ` +\n",
              "        `last modified: ${\n",
              "            file.lastModifiedDate ? file.lastModifiedDate.toLocaleDateString() :\n",
              "                                    'n/a'} - `));\n",
              "    const percent = span('0% done');\n",
              "    li.appendChild(percent);\n",
              "\n",
              "    outputElement.appendChild(li);\n",
              "\n",
              "    const fileDataPromise = new Promise((resolve) => {\n",
              "      const reader = new FileReader();\n",
              "      reader.onload = (e) => {\n",
              "        resolve(e.target.result);\n",
              "      };\n",
              "      reader.readAsArrayBuffer(file);\n",
              "    });\n",
              "    // Wait for the data to be ready.\n",
              "    let fileData = yield {\n",
              "      promise: fileDataPromise,\n",
              "      response: {\n",
              "        action: 'continue',\n",
              "      }\n",
              "    };\n",
              "\n",
              "    // Use a chunked sending to avoid message size limits. See b/62115660.\n",
              "    let position = 0;\n",
              "    do {\n",
              "      const length = Math.min(fileData.byteLength - position, MAX_PAYLOAD_SIZE);\n",
              "      const chunk = new Uint8Array(fileData, position, length);\n",
              "      position += length;\n",
              "\n",
              "      const base64 = btoa(String.fromCharCode.apply(null, chunk));\n",
              "      yield {\n",
              "        response: {\n",
              "          action: 'append',\n",
              "          file: file.name,\n",
              "          data: base64,\n",
              "        },\n",
              "      };\n",
              "\n",
              "      let percentDone = fileData.byteLength === 0 ?\n",
              "          100 :\n",
              "          Math.round((position / fileData.byteLength) * 100);\n",
              "      percent.textContent = `${percentDone}% done`;\n",
              "\n",
              "    } while (position < fileData.byteLength);\n",
              "  }\n",
              "\n",
              "  // All done.\n",
              "  yield {\n",
              "    response: {\n",
              "      action: 'complete',\n",
              "    }\n",
              "  };\n",
              "}\n",
              "\n",
              "scope.google = scope.google || {};\n",
              "scope.google.colab = scope.google.colab || {};\n",
              "scope.google.colab._files = {\n",
              "  _uploadFiles,\n",
              "  _uploadFilesContinue,\n",
              "};\n",
              "})(self);\n",
              "</script> "
            ]
          },
          "metadata": {}
        },
        {
          "output_type": "stream",
          "name": "stdout",
          "text": [
            "Saving CleanCreditScoring.csv to CleanCreditScoring.csv\n"
          ]
        }
      ]
    },
    {
      "cell_type": "code",
      "source": [
        "data = pd.read_csv('CleanCreditScoring.csv')\n",
        "data"
      ],
      "metadata": {
        "colab": {
          "base_uri": "https://localhost:8080/",
          "height": 661
        },
        "id": "QXdlA1-y0iIu",
        "outputId": "b1a1d3fe-2970-4dca-eede-a7cd258ef62f"
      },
      "execution_count": 3,
      "outputs": [
        {
          "output_type": "execute_result",
          "data": {
            "text/plain": [
              "     Status  Seniority   Home  Time  Age  Marital  Records        Job  \\\n",
              "0      good          9   rent    60   30  married   no_rec  freelance   \n",
              "1      good         17   rent    60   58    widow   no_rec      fixed   \n",
              "2       bad         10  owner    36   46  married  yes_rec  freelance   \n",
              "3      good          0   rent    60   24   single   no_rec      fixed   \n",
              "4      good          0   rent    36   26   single   no_rec      fixed   \n",
              "...     ...        ...    ...   ...  ...      ...      ...        ...   \n",
              "4441    bad          1   rent    60   39  married   no_rec      fixed   \n",
              "4442   good         22  owner    60   46  married   no_rec      fixed   \n",
              "4443    bad          0  owner    24   37  married   no_rec    partime   \n",
              "4444   good          0   rent    48   23   single   no_rec  freelance   \n",
              "4445   good          5  owner    60   32  married   no_rec  freelance   \n",
              "\n",
              "      Expenses  Income  ...         timeR         ageR       expensesR  \\\n",
              "0           73     129  ...  time (48,99]  age (25,30]     exp (60,80]   \n",
              "1           48     131  ...  time (48,99]  age (50,99]     exp (40,50]   \n",
              "2           90     200  ...  time (24,36]  age (40,50]  exp (80,1e+04]   \n",
              "3           63     182  ...  time (48,99]   age (0,25]     exp (60,80]   \n",
              "4           46     107  ...  time (24,36]  age (25,30]     exp (40,50]   \n",
              "...        ...     ...  ...           ...          ...             ...   \n",
              "4441        69      92  ...  time (48,99]  age (30,40]     exp (60,80]   \n",
              "4442        60      75  ...  time (48,99]  age (40,50]     exp (50,60]   \n",
              "4443        60      90  ...  time (12,24]  age (30,40]     exp (50,60]   \n",
              "4444        49     140  ...  time (36,48]   age (0,25]     exp (40,50]   \n",
              "4445        60     140  ...  time (48,99]  age (30,40]     exp (50,60]   \n",
              "\n",
              "              incomeR              assetsR               debtR  \\\n",
              "0       inc (110,140]         asset (-1,0]         debt (-1,0]   \n",
              "1       inc (110,140]         asset (-1,0]         debt (-1,0]   \n",
              "2     inc (190,1e+04]      asset (0,3e+03]         debt (-1,0]   \n",
              "3       inc (140,190]      asset (0,3e+03]         debt (-1,0]   \n",
              "4        inc (80,110]         asset (-1,0]         debt (-1,0]   \n",
              "...               ...                  ...                 ...   \n",
              "4441     inc (80,110]         asset (-1,0]         debt (-1,0]   \n",
              "4442       inc (0,80]      asset (0,3e+03]  debt (500,1.5e+03]   \n",
              "4443     inc (80,110]  asset (3e+03,5e+03]         debt (-1,0]   \n",
              "4444    inc (110,140]         asset (-1,0]         debt (-1,0]   \n",
              "4445    inc (110,140]  asset (3e+03,5e+03]  debt (500,1.5e+03]   \n",
              "\n",
              "                   amountR                  priceR        finratR    savingsR  \n",
              "0             am (600,900]          priz (0,1e+03]  finr (90,100]   sav (4,6]  \n",
              "1         am (900,1.1e+03]  priz (1.5e+03,1.8e+03]   finr (50,70]   sav (4,6]  \n",
              "2       am (1.4e+03,1e+05]    priz (1.8e+03,1e+05]   finr (50,70]   sav (0,2]  \n",
              "3             am (600,900]  priz (1.3e+03,1.5e+03]   finr (50,70]  sav (6,99]  \n",
              "4               am (0,600]          priz (0,1e+03]    finr (0,50]  sav (6,99]  \n",
              "...                    ...                     ...            ...         ...  \n",
              "4441          am (600,900]    priz (1e+03,1.3e+03]   finr (80,90]   sav (0,2]  \n",
              "4442      am (900,1.1e+03]    priz (1e+03,1.3e+03]   finr (70,80]   sav (0,2]  \n",
              "4443            am (0,600]          priz (0,1e+03]   finr (50,70]   sav (0,2]  \n",
              "4444            am (0,600]          priz (0,1e+03]  finr (90,100]  sav (6,99]  \n",
              "4445  am (1.1e+03,1.4e+03]  priz (1.5e+03,1.8e+03]   finr (80,90]   sav (2,4]  \n",
              "\n",
              "[4446 rows x 27 columns]"
            ],
            "text/html": [
              "\n",
              "  <div id=\"df-3ca7cc5f-ba22-4635-94d5-adc9100bfc1a\">\n",
              "    <div class=\"colab-df-container\">\n",
              "      <div>\n",
              "<style scoped>\n",
              "    .dataframe tbody tr th:only-of-type {\n",
              "        vertical-align: middle;\n",
              "    }\n",
              "\n",
              "    .dataframe tbody tr th {\n",
              "        vertical-align: top;\n",
              "    }\n",
              "\n",
              "    .dataframe thead th {\n",
              "        text-align: right;\n",
              "    }\n",
              "</style>\n",
              "<table border=\"1\" class=\"dataframe\">\n",
              "  <thead>\n",
              "    <tr style=\"text-align: right;\">\n",
              "      <th></th>\n",
              "      <th>Status</th>\n",
              "      <th>Seniority</th>\n",
              "      <th>Home</th>\n",
              "      <th>Time</th>\n",
              "      <th>Age</th>\n",
              "      <th>Marital</th>\n",
              "      <th>Records</th>\n",
              "      <th>Job</th>\n",
              "      <th>Expenses</th>\n",
              "      <th>Income</th>\n",
              "      <th>...</th>\n",
              "      <th>timeR</th>\n",
              "      <th>ageR</th>\n",
              "      <th>expensesR</th>\n",
              "      <th>incomeR</th>\n",
              "      <th>assetsR</th>\n",
              "      <th>debtR</th>\n",
              "      <th>amountR</th>\n",
              "      <th>priceR</th>\n",
              "      <th>finratR</th>\n",
              "      <th>savingsR</th>\n",
              "    </tr>\n",
              "  </thead>\n",
              "  <tbody>\n",
              "    <tr>\n",
              "      <th>0</th>\n",
              "      <td>good</td>\n",
              "      <td>9</td>\n",
              "      <td>rent</td>\n",
              "      <td>60</td>\n",
              "      <td>30</td>\n",
              "      <td>married</td>\n",
              "      <td>no_rec</td>\n",
              "      <td>freelance</td>\n",
              "      <td>73</td>\n",
              "      <td>129</td>\n",
              "      <td>...</td>\n",
              "      <td>time (48,99]</td>\n",
              "      <td>age (25,30]</td>\n",
              "      <td>exp (60,80]</td>\n",
              "      <td>inc (110,140]</td>\n",
              "      <td>asset (-1,0]</td>\n",
              "      <td>debt (-1,0]</td>\n",
              "      <td>am (600,900]</td>\n",
              "      <td>priz (0,1e+03]</td>\n",
              "      <td>finr (90,100]</td>\n",
              "      <td>sav (4,6]</td>\n",
              "    </tr>\n",
              "    <tr>\n",
              "      <th>1</th>\n",
              "      <td>good</td>\n",
              "      <td>17</td>\n",
              "      <td>rent</td>\n",
              "      <td>60</td>\n",
              "      <td>58</td>\n",
              "      <td>widow</td>\n",
              "      <td>no_rec</td>\n",
              "      <td>fixed</td>\n",
              "      <td>48</td>\n",
              "      <td>131</td>\n",
              "      <td>...</td>\n",
              "      <td>time (48,99]</td>\n",
              "      <td>age (50,99]</td>\n",
              "      <td>exp (40,50]</td>\n",
              "      <td>inc (110,140]</td>\n",
              "      <td>asset (-1,0]</td>\n",
              "      <td>debt (-1,0]</td>\n",
              "      <td>am (900,1.1e+03]</td>\n",
              "      <td>priz (1.5e+03,1.8e+03]</td>\n",
              "      <td>finr (50,70]</td>\n",
              "      <td>sav (4,6]</td>\n",
              "    </tr>\n",
              "    <tr>\n",
              "      <th>2</th>\n",
              "      <td>bad</td>\n",
              "      <td>10</td>\n",
              "      <td>owner</td>\n",
              "      <td>36</td>\n",
              "      <td>46</td>\n",
              "      <td>married</td>\n",
              "      <td>yes_rec</td>\n",
              "      <td>freelance</td>\n",
              "      <td>90</td>\n",
              "      <td>200</td>\n",
              "      <td>...</td>\n",
              "      <td>time (24,36]</td>\n",
              "      <td>age (40,50]</td>\n",
              "      <td>exp (80,1e+04]</td>\n",
              "      <td>inc (190,1e+04]</td>\n",
              "      <td>asset (0,3e+03]</td>\n",
              "      <td>debt (-1,0]</td>\n",
              "      <td>am (1.4e+03,1e+05]</td>\n",
              "      <td>priz (1.8e+03,1e+05]</td>\n",
              "      <td>finr (50,70]</td>\n",
              "      <td>sav (0,2]</td>\n",
              "    </tr>\n",
              "    <tr>\n",
              "      <th>3</th>\n",
              "      <td>good</td>\n",
              "      <td>0</td>\n",
              "      <td>rent</td>\n",
              "      <td>60</td>\n",
              "      <td>24</td>\n",
              "      <td>single</td>\n",
              "      <td>no_rec</td>\n",
              "      <td>fixed</td>\n",
              "      <td>63</td>\n",
              "      <td>182</td>\n",
              "      <td>...</td>\n",
              "      <td>time (48,99]</td>\n",
              "      <td>age (0,25]</td>\n",
              "      <td>exp (60,80]</td>\n",
              "      <td>inc (140,190]</td>\n",
              "      <td>asset (0,3e+03]</td>\n",
              "      <td>debt (-1,0]</td>\n",
              "      <td>am (600,900]</td>\n",
              "      <td>priz (1.3e+03,1.5e+03]</td>\n",
              "      <td>finr (50,70]</td>\n",
              "      <td>sav (6,99]</td>\n",
              "    </tr>\n",
              "    <tr>\n",
              "      <th>4</th>\n",
              "      <td>good</td>\n",
              "      <td>0</td>\n",
              "      <td>rent</td>\n",
              "      <td>36</td>\n",
              "      <td>26</td>\n",
              "      <td>single</td>\n",
              "      <td>no_rec</td>\n",
              "      <td>fixed</td>\n",
              "      <td>46</td>\n",
              "      <td>107</td>\n",
              "      <td>...</td>\n",
              "      <td>time (24,36]</td>\n",
              "      <td>age (25,30]</td>\n",
              "      <td>exp (40,50]</td>\n",
              "      <td>inc (80,110]</td>\n",
              "      <td>asset (-1,0]</td>\n",
              "      <td>debt (-1,0]</td>\n",
              "      <td>am (0,600]</td>\n",
              "      <td>priz (0,1e+03]</td>\n",
              "      <td>finr (0,50]</td>\n",
              "      <td>sav (6,99]</td>\n",
              "    </tr>\n",
              "    <tr>\n",
              "      <th>...</th>\n",
              "      <td>...</td>\n",
              "      <td>...</td>\n",
              "      <td>...</td>\n",
              "      <td>...</td>\n",
              "      <td>...</td>\n",
              "      <td>...</td>\n",
              "      <td>...</td>\n",
              "      <td>...</td>\n",
              "      <td>...</td>\n",
              "      <td>...</td>\n",
              "      <td>...</td>\n",
              "      <td>...</td>\n",
              "      <td>...</td>\n",
              "      <td>...</td>\n",
              "      <td>...</td>\n",
              "      <td>...</td>\n",
              "      <td>...</td>\n",
              "      <td>...</td>\n",
              "      <td>...</td>\n",
              "      <td>...</td>\n",
              "      <td>...</td>\n",
              "    </tr>\n",
              "    <tr>\n",
              "      <th>4441</th>\n",
              "      <td>bad</td>\n",
              "      <td>1</td>\n",
              "      <td>rent</td>\n",
              "      <td>60</td>\n",
              "      <td>39</td>\n",
              "      <td>married</td>\n",
              "      <td>no_rec</td>\n",
              "      <td>fixed</td>\n",
              "      <td>69</td>\n",
              "      <td>92</td>\n",
              "      <td>...</td>\n",
              "      <td>time (48,99]</td>\n",
              "      <td>age (30,40]</td>\n",
              "      <td>exp (60,80]</td>\n",
              "      <td>inc (80,110]</td>\n",
              "      <td>asset (-1,0]</td>\n",
              "      <td>debt (-1,0]</td>\n",
              "      <td>am (600,900]</td>\n",
              "      <td>priz (1e+03,1.3e+03]</td>\n",
              "      <td>finr (80,90]</td>\n",
              "      <td>sav (0,2]</td>\n",
              "    </tr>\n",
              "    <tr>\n",
              "      <th>4442</th>\n",
              "      <td>good</td>\n",
              "      <td>22</td>\n",
              "      <td>owner</td>\n",
              "      <td>60</td>\n",
              "      <td>46</td>\n",
              "      <td>married</td>\n",
              "      <td>no_rec</td>\n",
              "      <td>fixed</td>\n",
              "      <td>60</td>\n",
              "      <td>75</td>\n",
              "      <td>...</td>\n",
              "      <td>time (48,99]</td>\n",
              "      <td>age (40,50]</td>\n",
              "      <td>exp (50,60]</td>\n",
              "      <td>inc (0,80]</td>\n",
              "      <td>asset (0,3e+03]</td>\n",
              "      <td>debt (500,1.5e+03]</td>\n",
              "      <td>am (900,1.1e+03]</td>\n",
              "      <td>priz (1e+03,1.3e+03]</td>\n",
              "      <td>finr (70,80]</td>\n",
              "      <td>sav (0,2]</td>\n",
              "    </tr>\n",
              "    <tr>\n",
              "      <th>4443</th>\n",
              "      <td>bad</td>\n",
              "      <td>0</td>\n",
              "      <td>owner</td>\n",
              "      <td>24</td>\n",
              "      <td>37</td>\n",
              "      <td>married</td>\n",
              "      <td>no_rec</td>\n",
              "      <td>partime</td>\n",
              "      <td>60</td>\n",
              "      <td>90</td>\n",
              "      <td>...</td>\n",
              "      <td>time (12,24]</td>\n",
              "      <td>age (30,40]</td>\n",
              "      <td>exp (50,60]</td>\n",
              "      <td>inc (80,110]</td>\n",
              "      <td>asset (3e+03,5e+03]</td>\n",
              "      <td>debt (-1,0]</td>\n",
              "      <td>am (0,600]</td>\n",
              "      <td>priz (0,1e+03]</td>\n",
              "      <td>finr (50,70]</td>\n",
              "      <td>sav (0,2]</td>\n",
              "    </tr>\n",
              "    <tr>\n",
              "      <th>4444</th>\n",
              "      <td>good</td>\n",
              "      <td>0</td>\n",
              "      <td>rent</td>\n",
              "      <td>48</td>\n",
              "      <td>23</td>\n",
              "      <td>single</td>\n",
              "      <td>no_rec</td>\n",
              "      <td>freelance</td>\n",
              "      <td>49</td>\n",
              "      <td>140</td>\n",
              "      <td>...</td>\n",
              "      <td>time (36,48]</td>\n",
              "      <td>age (0,25]</td>\n",
              "      <td>exp (40,50]</td>\n",
              "      <td>inc (110,140]</td>\n",
              "      <td>asset (-1,0]</td>\n",
              "      <td>debt (-1,0]</td>\n",
              "      <td>am (0,600]</td>\n",
              "      <td>priz (0,1e+03]</td>\n",
              "      <td>finr (90,100]</td>\n",
              "      <td>sav (6,99]</td>\n",
              "    </tr>\n",
              "    <tr>\n",
              "      <th>4445</th>\n",
              "      <td>good</td>\n",
              "      <td>5</td>\n",
              "      <td>owner</td>\n",
              "      <td>60</td>\n",
              "      <td>32</td>\n",
              "      <td>married</td>\n",
              "      <td>no_rec</td>\n",
              "      <td>freelance</td>\n",
              "      <td>60</td>\n",
              "      <td>140</td>\n",
              "      <td>...</td>\n",
              "      <td>time (48,99]</td>\n",
              "      <td>age (30,40]</td>\n",
              "      <td>exp (50,60]</td>\n",
              "      <td>inc (110,140]</td>\n",
              "      <td>asset (3e+03,5e+03]</td>\n",
              "      <td>debt (500,1.5e+03]</td>\n",
              "      <td>am (1.1e+03,1.4e+03]</td>\n",
              "      <td>priz (1.5e+03,1.8e+03]</td>\n",
              "      <td>finr (80,90]</td>\n",
              "      <td>sav (2,4]</td>\n",
              "    </tr>\n",
              "  </tbody>\n",
              "</table>\n",
              "<p>4446 rows × 27 columns</p>\n",
              "</div>\n",
              "      <button class=\"colab-df-convert\" onclick=\"convertToInteractive('df-3ca7cc5f-ba22-4635-94d5-adc9100bfc1a')\"\n",
              "              title=\"Convert this dataframe to an interactive table.\"\n",
              "              style=\"display:none;\">\n",
              "        \n",
              "  <svg xmlns=\"http://www.w3.org/2000/svg\" height=\"24px\"viewBox=\"0 0 24 24\"\n",
              "       width=\"24px\">\n",
              "    <path d=\"M0 0h24v24H0V0z\" fill=\"none\"/>\n",
              "    <path d=\"M18.56 5.44l.94 2.06.94-2.06 2.06-.94-2.06-.94-.94-2.06-.94 2.06-2.06.94zm-11 1L8.5 8.5l.94-2.06 2.06-.94-2.06-.94L8.5 2.5l-.94 2.06-2.06.94zm10 10l.94 2.06.94-2.06 2.06-.94-2.06-.94-.94-2.06-.94 2.06-2.06.94z\"/><path d=\"M17.41 7.96l-1.37-1.37c-.4-.4-.92-.59-1.43-.59-.52 0-1.04.2-1.43.59L10.3 9.45l-7.72 7.72c-.78.78-.78 2.05 0 2.83L4 21.41c.39.39.9.59 1.41.59.51 0 1.02-.2 1.41-.59l7.78-7.78 2.81-2.81c.8-.78.8-2.07 0-2.86zM5.41 20L4 18.59l7.72-7.72 1.47 1.35L5.41 20z\"/>\n",
              "  </svg>\n",
              "      </button>\n",
              "      \n",
              "  <style>\n",
              "    .colab-df-container {\n",
              "      display:flex;\n",
              "      flex-wrap:wrap;\n",
              "      gap: 12px;\n",
              "    }\n",
              "\n",
              "    .colab-df-convert {\n",
              "      background-color: #E8F0FE;\n",
              "      border: none;\n",
              "      border-radius: 50%;\n",
              "      cursor: pointer;\n",
              "      display: none;\n",
              "      fill: #1967D2;\n",
              "      height: 32px;\n",
              "      padding: 0 0 0 0;\n",
              "      width: 32px;\n",
              "    }\n",
              "\n",
              "    .colab-df-convert:hover {\n",
              "      background-color: #E2EBFA;\n",
              "      box-shadow: 0px 1px 2px rgba(60, 64, 67, 0.3), 0px 1px 3px 1px rgba(60, 64, 67, 0.15);\n",
              "      fill: #174EA6;\n",
              "    }\n",
              "\n",
              "    [theme=dark] .colab-df-convert {\n",
              "      background-color: #3B4455;\n",
              "      fill: #D2E3FC;\n",
              "    }\n",
              "\n",
              "    [theme=dark] .colab-df-convert:hover {\n",
              "      background-color: #434B5C;\n",
              "      box-shadow: 0px 1px 3px 1px rgba(0, 0, 0, 0.15);\n",
              "      filter: drop-shadow(0px 1px 2px rgba(0, 0, 0, 0.3));\n",
              "      fill: #FFFFFF;\n",
              "    }\n",
              "  </style>\n",
              "\n",
              "      <script>\n",
              "        const buttonEl =\n",
              "          document.querySelector('#df-3ca7cc5f-ba22-4635-94d5-adc9100bfc1a button.colab-df-convert');\n",
              "        buttonEl.style.display =\n",
              "          google.colab.kernel.accessAllowed ? 'block' : 'none';\n",
              "\n",
              "        async function convertToInteractive(key) {\n",
              "          const element = document.querySelector('#df-3ca7cc5f-ba22-4635-94d5-adc9100bfc1a');\n",
              "          const dataTable =\n",
              "            await google.colab.kernel.invokeFunction('convertToInteractive',\n",
              "                                                     [key], {});\n",
              "          if (!dataTable) return;\n",
              "\n",
              "          const docLinkHtml = 'Like what you see? Visit the ' +\n",
              "            '<a target=\"_blank\" href=https://colab.research.google.com/notebooks/data_table.ipynb>data table notebook</a>'\n",
              "            + ' to learn more about interactive tables.';\n",
              "          element.innerHTML = '';\n",
              "          dataTable['output_type'] = 'display_data';\n",
              "          await google.colab.output.renderOutput(dataTable, element);\n",
              "          const docLink = document.createElement('div');\n",
              "          docLink.innerHTML = docLinkHtml;\n",
              "          element.appendChild(docLink);\n",
              "        }\n",
              "      </script>\n",
              "    </div>\n",
              "  </div>\n",
              "  "
            ]
          },
          "metadata": {},
          "execution_count": 3
        }
      ]
    },
    {
      "cell_type": "code",
      "source": [
        "data.head()"
      ],
      "metadata": {
        "colab": {
          "base_uri": "https://localhost:8080/",
          "height": 386
        },
        "id": "ioKpVXV32Euo",
        "outputId": "d459786f-8ab5-4050-d735-6a16c2366951"
      },
      "execution_count": 4,
      "outputs": [
        {
          "output_type": "execute_result",
          "data": {
            "text/plain": [
              "  Status  Seniority   Home  Time  Age  Marital  Records        Job  Expenses  \\\n",
              "0   good          9   rent    60   30  married   no_rec  freelance        73   \n",
              "1   good         17   rent    60   58    widow   no_rec      fixed        48   \n",
              "2    bad         10  owner    36   46  married  yes_rec  freelance        90   \n",
              "3   good          0   rent    60   24   single   no_rec      fixed        63   \n",
              "4   good          0   rent    36   26   single   no_rec      fixed        46   \n",
              "\n",
              "   Income  ...         timeR         ageR       expensesR          incomeR  \\\n",
              "0     129  ...  time (48,99]  age (25,30]     exp (60,80]    inc (110,140]   \n",
              "1     131  ...  time (48,99]  age (50,99]     exp (40,50]    inc (110,140]   \n",
              "2     200  ...  time (24,36]  age (40,50]  exp (80,1e+04]  inc (190,1e+04]   \n",
              "3     182  ...  time (48,99]   age (0,25]     exp (60,80]    inc (140,190]   \n",
              "4     107  ...  time (24,36]  age (25,30]     exp (40,50]     inc (80,110]   \n",
              "\n",
              "           assetsR        debtR             amountR                  priceR  \\\n",
              "0     asset (-1,0]  debt (-1,0]        am (600,900]          priz (0,1e+03]   \n",
              "1     asset (-1,0]  debt (-1,0]    am (900,1.1e+03]  priz (1.5e+03,1.8e+03]   \n",
              "2  asset (0,3e+03]  debt (-1,0]  am (1.4e+03,1e+05]    priz (1.8e+03,1e+05]   \n",
              "3  asset (0,3e+03]  debt (-1,0]        am (600,900]  priz (1.3e+03,1.5e+03]   \n",
              "4     asset (-1,0]  debt (-1,0]          am (0,600]          priz (0,1e+03]   \n",
              "\n",
              "         finratR    savingsR  \n",
              "0  finr (90,100]   sav (4,6]  \n",
              "1   finr (50,70]   sav (4,6]  \n",
              "2   finr (50,70]   sav (0,2]  \n",
              "3   finr (50,70]  sav (6,99]  \n",
              "4    finr (0,50]  sav (6,99]  \n",
              "\n",
              "[5 rows x 27 columns]"
            ],
            "text/html": [
              "\n",
              "  <div id=\"df-9503d9c1-e8b4-4478-977d-6f03b65e47ce\">\n",
              "    <div class=\"colab-df-container\">\n",
              "      <div>\n",
              "<style scoped>\n",
              "    .dataframe tbody tr th:only-of-type {\n",
              "        vertical-align: middle;\n",
              "    }\n",
              "\n",
              "    .dataframe tbody tr th {\n",
              "        vertical-align: top;\n",
              "    }\n",
              "\n",
              "    .dataframe thead th {\n",
              "        text-align: right;\n",
              "    }\n",
              "</style>\n",
              "<table border=\"1\" class=\"dataframe\">\n",
              "  <thead>\n",
              "    <tr style=\"text-align: right;\">\n",
              "      <th></th>\n",
              "      <th>Status</th>\n",
              "      <th>Seniority</th>\n",
              "      <th>Home</th>\n",
              "      <th>Time</th>\n",
              "      <th>Age</th>\n",
              "      <th>Marital</th>\n",
              "      <th>Records</th>\n",
              "      <th>Job</th>\n",
              "      <th>Expenses</th>\n",
              "      <th>Income</th>\n",
              "      <th>...</th>\n",
              "      <th>timeR</th>\n",
              "      <th>ageR</th>\n",
              "      <th>expensesR</th>\n",
              "      <th>incomeR</th>\n",
              "      <th>assetsR</th>\n",
              "      <th>debtR</th>\n",
              "      <th>amountR</th>\n",
              "      <th>priceR</th>\n",
              "      <th>finratR</th>\n",
              "      <th>savingsR</th>\n",
              "    </tr>\n",
              "  </thead>\n",
              "  <tbody>\n",
              "    <tr>\n",
              "      <th>0</th>\n",
              "      <td>good</td>\n",
              "      <td>9</td>\n",
              "      <td>rent</td>\n",
              "      <td>60</td>\n",
              "      <td>30</td>\n",
              "      <td>married</td>\n",
              "      <td>no_rec</td>\n",
              "      <td>freelance</td>\n",
              "      <td>73</td>\n",
              "      <td>129</td>\n",
              "      <td>...</td>\n",
              "      <td>time (48,99]</td>\n",
              "      <td>age (25,30]</td>\n",
              "      <td>exp (60,80]</td>\n",
              "      <td>inc (110,140]</td>\n",
              "      <td>asset (-1,0]</td>\n",
              "      <td>debt (-1,0]</td>\n",
              "      <td>am (600,900]</td>\n",
              "      <td>priz (0,1e+03]</td>\n",
              "      <td>finr (90,100]</td>\n",
              "      <td>sav (4,6]</td>\n",
              "    </tr>\n",
              "    <tr>\n",
              "      <th>1</th>\n",
              "      <td>good</td>\n",
              "      <td>17</td>\n",
              "      <td>rent</td>\n",
              "      <td>60</td>\n",
              "      <td>58</td>\n",
              "      <td>widow</td>\n",
              "      <td>no_rec</td>\n",
              "      <td>fixed</td>\n",
              "      <td>48</td>\n",
              "      <td>131</td>\n",
              "      <td>...</td>\n",
              "      <td>time (48,99]</td>\n",
              "      <td>age (50,99]</td>\n",
              "      <td>exp (40,50]</td>\n",
              "      <td>inc (110,140]</td>\n",
              "      <td>asset (-1,0]</td>\n",
              "      <td>debt (-1,0]</td>\n",
              "      <td>am (900,1.1e+03]</td>\n",
              "      <td>priz (1.5e+03,1.8e+03]</td>\n",
              "      <td>finr (50,70]</td>\n",
              "      <td>sav (4,6]</td>\n",
              "    </tr>\n",
              "    <tr>\n",
              "      <th>2</th>\n",
              "      <td>bad</td>\n",
              "      <td>10</td>\n",
              "      <td>owner</td>\n",
              "      <td>36</td>\n",
              "      <td>46</td>\n",
              "      <td>married</td>\n",
              "      <td>yes_rec</td>\n",
              "      <td>freelance</td>\n",
              "      <td>90</td>\n",
              "      <td>200</td>\n",
              "      <td>...</td>\n",
              "      <td>time (24,36]</td>\n",
              "      <td>age (40,50]</td>\n",
              "      <td>exp (80,1e+04]</td>\n",
              "      <td>inc (190,1e+04]</td>\n",
              "      <td>asset (0,3e+03]</td>\n",
              "      <td>debt (-1,0]</td>\n",
              "      <td>am (1.4e+03,1e+05]</td>\n",
              "      <td>priz (1.8e+03,1e+05]</td>\n",
              "      <td>finr (50,70]</td>\n",
              "      <td>sav (0,2]</td>\n",
              "    </tr>\n",
              "    <tr>\n",
              "      <th>3</th>\n",
              "      <td>good</td>\n",
              "      <td>0</td>\n",
              "      <td>rent</td>\n",
              "      <td>60</td>\n",
              "      <td>24</td>\n",
              "      <td>single</td>\n",
              "      <td>no_rec</td>\n",
              "      <td>fixed</td>\n",
              "      <td>63</td>\n",
              "      <td>182</td>\n",
              "      <td>...</td>\n",
              "      <td>time (48,99]</td>\n",
              "      <td>age (0,25]</td>\n",
              "      <td>exp (60,80]</td>\n",
              "      <td>inc (140,190]</td>\n",
              "      <td>asset (0,3e+03]</td>\n",
              "      <td>debt (-1,0]</td>\n",
              "      <td>am (600,900]</td>\n",
              "      <td>priz (1.3e+03,1.5e+03]</td>\n",
              "      <td>finr (50,70]</td>\n",
              "      <td>sav (6,99]</td>\n",
              "    </tr>\n",
              "    <tr>\n",
              "      <th>4</th>\n",
              "      <td>good</td>\n",
              "      <td>0</td>\n",
              "      <td>rent</td>\n",
              "      <td>36</td>\n",
              "      <td>26</td>\n",
              "      <td>single</td>\n",
              "      <td>no_rec</td>\n",
              "      <td>fixed</td>\n",
              "      <td>46</td>\n",
              "      <td>107</td>\n",
              "      <td>...</td>\n",
              "      <td>time (24,36]</td>\n",
              "      <td>age (25,30]</td>\n",
              "      <td>exp (40,50]</td>\n",
              "      <td>inc (80,110]</td>\n",
              "      <td>asset (-1,0]</td>\n",
              "      <td>debt (-1,0]</td>\n",
              "      <td>am (0,600]</td>\n",
              "      <td>priz (0,1e+03]</td>\n",
              "      <td>finr (0,50]</td>\n",
              "      <td>sav (6,99]</td>\n",
              "    </tr>\n",
              "  </tbody>\n",
              "</table>\n",
              "<p>5 rows × 27 columns</p>\n",
              "</div>\n",
              "      <button class=\"colab-df-convert\" onclick=\"convertToInteractive('df-9503d9c1-e8b4-4478-977d-6f03b65e47ce')\"\n",
              "              title=\"Convert this dataframe to an interactive table.\"\n",
              "              style=\"display:none;\">\n",
              "        \n",
              "  <svg xmlns=\"http://www.w3.org/2000/svg\" height=\"24px\"viewBox=\"0 0 24 24\"\n",
              "       width=\"24px\">\n",
              "    <path d=\"M0 0h24v24H0V0z\" fill=\"none\"/>\n",
              "    <path d=\"M18.56 5.44l.94 2.06.94-2.06 2.06-.94-2.06-.94-.94-2.06-.94 2.06-2.06.94zm-11 1L8.5 8.5l.94-2.06 2.06-.94-2.06-.94L8.5 2.5l-.94 2.06-2.06.94zm10 10l.94 2.06.94-2.06 2.06-.94-2.06-.94-.94-2.06-.94 2.06-2.06.94z\"/><path d=\"M17.41 7.96l-1.37-1.37c-.4-.4-.92-.59-1.43-.59-.52 0-1.04.2-1.43.59L10.3 9.45l-7.72 7.72c-.78.78-.78 2.05 0 2.83L4 21.41c.39.39.9.59 1.41.59.51 0 1.02-.2 1.41-.59l7.78-7.78 2.81-2.81c.8-.78.8-2.07 0-2.86zM5.41 20L4 18.59l7.72-7.72 1.47 1.35L5.41 20z\"/>\n",
              "  </svg>\n",
              "      </button>\n",
              "      \n",
              "  <style>\n",
              "    .colab-df-container {\n",
              "      display:flex;\n",
              "      flex-wrap:wrap;\n",
              "      gap: 12px;\n",
              "    }\n",
              "\n",
              "    .colab-df-convert {\n",
              "      background-color: #E8F0FE;\n",
              "      border: none;\n",
              "      border-radius: 50%;\n",
              "      cursor: pointer;\n",
              "      display: none;\n",
              "      fill: #1967D2;\n",
              "      height: 32px;\n",
              "      padding: 0 0 0 0;\n",
              "      width: 32px;\n",
              "    }\n",
              "\n",
              "    .colab-df-convert:hover {\n",
              "      background-color: #E2EBFA;\n",
              "      box-shadow: 0px 1px 2px rgba(60, 64, 67, 0.3), 0px 1px 3px 1px rgba(60, 64, 67, 0.15);\n",
              "      fill: #174EA6;\n",
              "    }\n",
              "\n",
              "    [theme=dark] .colab-df-convert {\n",
              "      background-color: #3B4455;\n",
              "      fill: #D2E3FC;\n",
              "    }\n",
              "\n",
              "    [theme=dark] .colab-df-convert:hover {\n",
              "      background-color: #434B5C;\n",
              "      box-shadow: 0px 1px 3px 1px rgba(0, 0, 0, 0.15);\n",
              "      filter: drop-shadow(0px 1px 2px rgba(0, 0, 0, 0.3));\n",
              "      fill: #FFFFFF;\n",
              "    }\n",
              "  </style>\n",
              "\n",
              "      <script>\n",
              "        const buttonEl =\n",
              "          document.querySelector('#df-9503d9c1-e8b4-4478-977d-6f03b65e47ce button.colab-df-convert');\n",
              "        buttonEl.style.display =\n",
              "          google.colab.kernel.accessAllowed ? 'block' : 'none';\n",
              "\n",
              "        async function convertToInteractive(key) {\n",
              "          const element = document.querySelector('#df-9503d9c1-e8b4-4478-977d-6f03b65e47ce');\n",
              "          const dataTable =\n",
              "            await google.colab.kernel.invokeFunction('convertToInteractive',\n",
              "                                                     [key], {});\n",
              "          if (!dataTable) return;\n",
              "\n",
              "          const docLinkHtml = 'Like what you see? Visit the ' +\n",
              "            '<a target=\"_blank\" href=https://colab.research.google.com/notebooks/data_table.ipynb>data table notebook</a>'\n",
              "            + ' to learn more about interactive tables.';\n",
              "          element.innerHTML = '';\n",
              "          dataTable['output_type'] = 'display_data';\n",
              "          await google.colab.output.renderOutput(dataTable, element);\n",
              "          const docLink = document.createElement('div');\n",
              "          docLink.innerHTML = docLinkHtml;\n",
              "          element.appendChild(docLink);\n",
              "        }\n",
              "      </script>\n",
              "    </div>\n",
              "  </div>\n",
              "  "
            ]
          },
          "metadata": {},
          "execution_count": 4
        }
      ]
    },
    {
      "cell_type": "code",
      "source": [
        "data.shape"
      ],
      "metadata": {
        "colab": {
          "base_uri": "https://localhost:8080/"
        },
        "id": "ViE9KDxR2J8d",
        "outputId": "907b77db-574a-424f-ba14-f9461f92eacd"
      },
      "execution_count": 6,
      "outputs": [
        {
          "output_type": "execute_result",
          "data": {
            "text/plain": [
              "(4446, 27)"
            ]
          },
          "metadata": {},
          "execution_count": 6
        }
      ]
    },
    {
      "cell_type": "code",
      "source": [
        "data.isnull().sum()"
      ],
      "metadata": {
        "colab": {
          "base_uri": "https://localhost:8080/"
        },
        "id": "p4oazFhD29EL",
        "outputId": "a43747c2-3edc-4cfc-a3e7-4d7aac85e2e2"
      },
      "execution_count": 7,
      "outputs": [
        {
          "output_type": "execute_result",
          "data": {
            "text/plain": [
              "Status        0\n",
              "Seniority     0\n",
              "Home          0\n",
              "Time          0\n",
              "Age           0\n",
              "Marital       0\n",
              "Records       0\n",
              "Job           0\n",
              "Expenses      0\n",
              "Income        0\n",
              "Assets        0\n",
              "Debt          0\n",
              "Amount        0\n",
              "Price         0\n",
              "Finrat        0\n",
              "Savings       0\n",
              "seniorityR    0\n",
              "timeR         0\n",
              "ageR          0\n",
              "expensesR     0\n",
              "incomeR       0\n",
              "assetsR       0\n",
              "debtR         0\n",
              "amountR       0\n",
              "priceR        0\n",
              "finratR       0\n",
              "savingsR      0\n",
              "dtype: int64"
            ]
          },
          "metadata": {},
          "execution_count": 7
        }
      ]
    },
    {
      "cell_type": "code",
      "source": [
        "data.info()"
      ],
      "metadata": {
        "colab": {
          "base_uri": "https://localhost:8080/"
        },
        "id": "y2ofI-qG3nzm",
        "outputId": "c81f4854-f861-4dc9-8907-04beb806f334"
      },
      "execution_count": 9,
      "outputs": [
        {
          "output_type": "stream",
          "name": "stdout",
          "text": [
            "<class 'pandas.core.frame.DataFrame'>\n",
            "RangeIndex: 4446 entries, 0 to 4445\n",
            "Data columns (total 27 columns):\n",
            " #   Column      Non-Null Count  Dtype  \n",
            "---  ------      --------------  -----  \n",
            " 0   Status      4446 non-null   object \n",
            " 1   Seniority   4446 non-null   int64  \n",
            " 2   Home        4446 non-null   object \n",
            " 3   Time        4446 non-null   int64  \n",
            " 4   Age         4446 non-null   int64  \n",
            " 5   Marital     4446 non-null   object \n",
            " 6   Records     4446 non-null   object \n",
            " 7   Job         4446 non-null   object \n",
            " 8   Expenses    4446 non-null   int64  \n",
            " 9   Income      4446 non-null   int64  \n",
            " 10  Assets      4446 non-null   int64  \n",
            " 11  Debt        4446 non-null   int64  \n",
            " 12  Amount      4446 non-null   int64  \n",
            " 13  Price       4446 non-null   int64  \n",
            " 14  Finrat      4446 non-null   float64\n",
            " 15  Savings     4446 non-null   float64\n",
            " 16  seniorityR  4446 non-null   object \n",
            " 17  timeR       4446 non-null   object \n",
            " 18  ageR        4446 non-null   object \n",
            " 19  expensesR   4446 non-null   object \n",
            " 20  incomeR     4446 non-null   object \n",
            " 21  assetsR     4446 non-null   object \n",
            " 22  debtR       4446 non-null   object \n",
            " 23  amountR     4446 non-null   object \n",
            " 24  priceR      4446 non-null   object \n",
            " 25  finratR     4446 non-null   object \n",
            " 26  savingsR    4446 non-null   object \n",
            "dtypes: float64(2), int64(9), object(16)\n",
            "memory usage: 938.0+ KB\n"
          ]
        }
      ]
    },
    {
      "cell_type": "markdown",
      "source": [
        "#Univariate Analysis"
      ],
      "metadata": {
        "id": "NVFQrE1u4k9p"
      }
    },
    {
      "cell_type": "code",
      "source": [
        "data.describe()"
      ],
      "metadata": {
        "colab": {
          "base_uri": "https://localhost:8080/",
          "height": 300
        },
        "id": "tmjQkB4U4iZh",
        "outputId": "1cedafcc-22b3-478e-92d6-442e9f0ce4cd"
      },
      "execution_count": 14,
      "outputs": [
        {
          "output_type": "execute_result",
          "data": {
            "text/plain": [
              "         Seniority         Time          Age     Expenses       Income  \\\n",
              "count  4446.000000  4446.000000  4446.000000  4446.000000  4446.000000   \n",
              "mean      7.991453    46.453441    37.084121    55.601439   140.629780   \n",
              "std       8.176370    14.647979    10.986366    19.520839    80.177896   \n",
              "min       0.000000     6.000000    18.000000    35.000000     1.000000   \n",
              "25%       2.000000    36.000000    28.000000    35.000000    90.000000   \n",
              "50%       5.000000    48.000000    36.000000    51.000000   124.000000   \n",
              "75%      12.000000    60.000000    45.000000    72.000000   170.000000   \n",
              "max      48.000000    72.000000    68.000000   180.000000   959.000000   \n",
              "\n",
              "              Assets          Debt       Amount         Price       Finrat  \\\n",
              "count    4446.000000   4446.000000  4446.000000   4446.000000  4446.000000   \n",
              "mean     5354.948943    342.257085  1038.763383   1462.480432    72.616409   \n",
              "std     11534.328183   1244.694549   474.747952    628.555171    20.390595   \n",
              "min         0.000000      0.000000   100.000000    105.000000     6.702413   \n",
              "25%         0.000000      0.000000   700.000000   1116.250000    60.030020   \n",
              "50%      3000.000000      0.000000  1000.000000   1400.000000    77.096757   \n",
              "75%      6000.000000      0.000000  1300.000000   1691.500000    88.460263   \n",
              "max    300000.000000  30000.000000  5000.000000  11140.000000   100.000000   \n",
              "\n",
              "           Savings  \n",
              "count  4446.000000  \n",
              "mean      3.860083  \n",
              "std       3.726292  \n",
              "min      -8.160000  \n",
              "25%       1.615385  \n",
              "50%       3.120000  \n",
              "75%       5.195688  \n",
              "max      33.250000  "
            ],
            "text/html": [
              "\n",
              "  <div id=\"df-485d6b1d-3afb-4fdc-ac9f-a56ffbacfc17\">\n",
              "    <div class=\"colab-df-container\">\n",
              "      <div>\n",
              "<style scoped>\n",
              "    .dataframe tbody tr th:only-of-type {\n",
              "        vertical-align: middle;\n",
              "    }\n",
              "\n",
              "    .dataframe tbody tr th {\n",
              "        vertical-align: top;\n",
              "    }\n",
              "\n",
              "    .dataframe thead th {\n",
              "        text-align: right;\n",
              "    }\n",
              "</style>\n",
              "<table border=\"1\" class=\"dataframe\">\n",
              "  <thead>\n",
              "    <tr style=\"text-align: right;\">\n",
              "      <th></th>\n",
              "      <th>Seniority</th>\n",
              "      <th>Time</th>\n",
              "      <th>Age</th>\n",
              "      <th>Expenses</th>\n",
              "      <th>Income</th>\n",
              "      <th>Assets</th>\n",
              "      <th>Debt</th>\n",
              "      <th>Amount</th>\n",
              "      <th>Price</th>\n",
              "      <th>Finrat</th>\n",
              "      <th>Savings</th>\n",
              "    </tr>\n",
              "  </thead>\n",
              "  <tbody>\n",
              "    <tr>\n",
              "      <th>count</th>\n",
              "      <td>4446.000000</td>\n",
              "      <td>4446.000000</td>\n",
              "      <td>4446.000000</td>\n",
              "      <td>4446.000000</td>\n",
              "      <td>4446.000000</td>\n",
              "      <td>4446.000000</td>\n",
              "      <td>4446.000000</td>\n",
              "      <td>4446.000000</td>\n",
              "      <td>4446.000000</td>\n",
              "      <td>4446.000000</td>\n",
              "      <td>4446.000000</td>\n",
              "    </tr>\n",
              "    <tr>\n",
              "      <th>mean</th>\n",
              "      <td>7.991453</td>\n",
              "      <td>46.453441</td>\n",
              "      <td>37.084121</td>\n",
              "      <td>55.601439</td>\n",
              "      <td>140.629780</td>\n",
              "      <td>5354.948943</td>\n",
              "      <td>342.257085</td>\n",
              "      <td>1038.763383</td>\n",
              "      <td>1462.480432</td>\n",
              "      <td>72.616409</td>\n",
              "      <td>3.860083</td>\n",
              "    </tr>\n",
              "    <tr>\n",
              "      <th>std</th>\n",
              "      <td>8.176370</td>\n",
              "      <td>14.647979</td>\n",
              "      <td>10.986366</td>\n",
              "      <td>19.520839</td>\n",
              "      <td>80.177896</td>\n",
              "      <td>11534.328183</td>\n",
              "      <td>1244.694549</td>\n",
              "      <td>474.747952</td>\n",
              "      <td>628.555171</td>\n",
              "      <td>20.390595</td>\n",
              "      <td>3.726292</td>\n",
              "    </tr>\n",
              "    <tr>\n",
              "      <th>min</th>\n",
              "      <td>0.000000</td>\n",
              "      <td>6.000000</td>\n",
              "      <td>18.000000</td>\n",
              "      <td>35.000000</td>\n",
              "      <td>1.000000</td>\n",
              "      <td>0.000000</td>\n",
              "      <td>0.000000</td>\n",
              "      <td>100.000000</td>\n",
              "      <td>105.000000</td>\n",
              "      <td>6.702413</td>\n",
              "      <td>-8.160000</td>\n",
              "    </tr>\n",
              "    <tr>\n",
              "      <th>25%</th>\n",
              "      <td>2.000000</td>\n",
              "      <td>36.000000</td>\n",
              "      <td>28.000000</td>\n",
              "      <td>35.000000</td>\n",
              "      <td>90.000000</td>\n",
              "      <td>0.000000</td>\n",
              "      <td>0.000000</td>\n",
              "      <td>700.000000</td>\n",
              "      <td>1116.250000</td>\n",
              "      <td>60.030020</td>\n",
              "      <td>1.615385</td>\n",
              "    </tr>\n",
              "    <tr>\n",
              "      <th>50%</th>\n",
              "      <td>5.000000</td>\n",
              "      <td>48.000000</td>\n",
              "      <td>36.000000</td>\n",
              "      <td>51.000000</td>\n",
              "      <td>124.000000</td>\n",
              "      <td>3000.000000</td>\n",
              "      <td>0.000000</td>\n",
              "      <td>1000.000000</td>\n",
              "      <td>1400.000000</td>\n",
              "      <td>77.096757</td>\n",
              "      <td>3.120000</td>\n",
              "    </tr>\n",
              "    <tr>\n",
              "      <th>75%</th>\n",
              "      <td>12.000000</td>\n",
              "      <td>60.000000</td>\n",
              "      <td>45.000000</td>\n",
              "      <td>72.000000</td>\n",
              "      <td>170.000000</td>\n",
              "      <td>6000.000000</td>\n",
              "      <td>0.000000</td>\n",
              "      <td>1300.000000</td>\n",
              "      <td>1691.500000</td>\n",
              "      <td>88.460263</td>\n",
              "      <td>5.195688</td>\n",
              "    </tr>\n",
              "    <tr>\n",
              "      <th>max</th>\n",
              "      <td>48.000000</td>\n",
              "      <td>72.000000</td>\n",
              "      <td>68.000000</td>\n",
              "      <td>180.000000</td>\n",
              "      <td>959.000000</td>\n",
              "      <td>300000.000000</td>\n",
              "      <td>30000.000000</td>\n",
              "      <td>5000.000000</td>\n",
              "      <td>11140.000000</td>\n",
              "      <td>100.000000</td>\n",
              "      <td>33.250000</td>\n",
              "    </tr>\n",
              "  </tbody>\n",
              "</table>\n",
              "</div>\n",
              "      <button class=\"colab-df-convert\" onclick=\"convertToInteractive('df-485d6b1d-3afb-4fdc-ac9f-a56ffbacfc17')\"\n",
              "              title=\"Convert this dataframe to an interactive table.\"\n",
              "              style=\"display:none;\">\n",
              "        \n",
              "  <svg xmlns=\"http://www.w3.org/2000/svg\" height=\"24px\"viewBox=\"0 0 24 24\"\n",
              "       width=\"24px\">\n",
              "    <path d=\"M0 0h24v24H0V0z\" fill=\"none\"/>\n",
              "    <path d=\"M18.56 5.44l.94 2.06.94-2.06 2.06-.94-2.06-.94-.94-2.06-.94 2.06-2.06.94zm-11 1L8.5 8.5l.94-2.06 2.06-.94-2.06-.94L8.5 2.5l-.94 2.06-2.06.94zm10 10l.94 2.06.94-2.06 2.06-.94-2.06-.94-.94-2.06-.94 2.06-2.06.94z\"/><path d=\"M17.41 7.96l-1.37-1.37c-.4-.4-.92-.59-1.43-.59-.52 0-1.04.2-1.43.59L10.3 9.45l-7.72 7.72c-.78.78-.78 2.05 0 2.83L4 21.41c.39.39.9.59 1.41.59.51 0 1.02-.2 1.41-.59l7.78-7.78 2.81-2.81c.8-.78.8-2.07 0-2.86zM5.41 20L4 18.59l7.72-7.72 1.47 1.35L5.41 20z\"/>\n",
              "  </svg>\n",
              "      </button>\n",
              "      \n",
              "  <style>\n",
              "    .colab-df-container {\n",
              "      display:flex;\n",
              "      flex-wrap:wrap;\n",
              "      gap: 12px;\n",
              "    }\n",
              "\n",
              "    .colab-df-convert {\n",
              "      background-color: #E8F0FE;\n",
              "      border: none;\n",
              "      border-radius: 50%;\n",
              "      cursor: pointer;\n",
              "      display: none;\n",
              "      fill: #1967D2;\n",
              "      height: 32px;\n",
              "      padding: 0 0 0 0;\n",
              "      width: 32px;\n",
              "    }\n",
              "\n",
              "    .colab-df-convert:hover {\n",
              "      background-color: #E2EBFA;\n",
              "      box-shadow: 0px 1px 2px rgba(60, 64, 67, 0.3), 0px 1px 3px 1px rgba(60, 64, 67, 0.15);\n",
              "      fill: #174EA6;\n",
              "    }\n",
              "\n",
              "    [theme=dark] .colab-df-convert {\n",
              "      background-color: #3B4455;\n",
              "      fill: #D2E3FC;\n",
              "    }\n",
              "\n",
              "    [theme=dark] .colab-df-convert:hover {\n",
              "      background-color: #434B5C;\n",
              "      box-shadow: 0px 1px 3px 1px rgba(0, 0, 0, 0.15);\n",
              "      filter: drop-shadow(0px 1px 2px rgba(0, 0, 0, 0.3));\n",
              "      fill: #FFFFFF;\n",
              "    }\n",
              "  </style>\n",
              "\n",
              "      <script>\n",
              "        const buttonEl =\n",
              "          document.querySelector('#df-485d6b1d-3afb-4fdc-ac9f-a56ffbacfc17 button.colab-df-convert');\n",
              "        buttonEl.style.display =\n",
              "          google.colab.kernel.accessAllowed ? 'block' : 'none';\n",
              "\n",
              "        async function convertToInteractive(key) {\n",
              "          const element = document.querySelector('#df-485d6b1d-3afb-4fdc-ac9f-a56ffbacfc17');\n",
              "          const dataTable =\n",
              "            await google.colab.kernel.invokeFunction('convertToInteractive',\n",
              "                                                     [key], {});\n",
              "          if (!dataTable) return;\n",
              "\n",
              "          const docLinkHtml = 'Like what you see? Visit the ' +\n",
              "            '<a target=\"_blank\" href=https://colab.research.google.com/notebooks/data_table.ipynb>data table notebook</a>'\n",
              "            + ' to learn more about interactive tables.';\n",
              "          element.innerHTML = '';\n",
              "          dataTable['output_type'] = 'display_data';\n",
              "          await google.colab.output.renderOutput(dataTable, element);\n",
              "          const docLink = document.createElement('div');\n",
              "          docLink.innerHTML = docLinkHtml;\n",
              "          element.appendChild(docLink);\n",
              "        }\n",
              "      </script>\n",
              "    </div>\n",
              "  </div>\n",
              "  "
            ]
          },
          "metadata": {},
          "execution_count": 14
        }
      ]
    },
    {
      "cell_type": "code",
      "source": [
        "data[\"Income\"].mean()"
      ],
      "metadata": {
        "colab": {
          "base_uri": "https://localhost:8080/"
        },
        "id": "9Ge_yj2I3DKI",
        "outputId": "2357a64a-c279-4745-de6d-ab4f662e7ab6"
      },
      "execution_count": 10,
      "outputs": [
        {
          "output_type": "execute_result",
          "data": {
            "text/plain": [
              "140.62977957714799"
            ]
          },
          "metadata": {},
          "execution_count": 10
        }
      ]
    },
    {
      "cell_type": "code",
      "source": [
        "data[\"Income\"].mode()"
      ],
      "metadata": {
        "colab": {
          "base_uri": "https://localhost:8080/"
        },
        "id": "8C6tmHKu3ZmI",
        "outputId": "53bc5e17-27f7-473c-d450-9e2a9803bc01"
      },
      "execution_count": 11,
      "outputs": [
        {
          "output_type": "execute_result",
          "data": {
            "text/plain": [
              "0    100\n",
              "dtype: int64"
            ]
          },
          "metadata": {},
          "execution_count": 11
        }
      ]
    },
    {
      "cell_type": "code",
      "source": [
        "data[\"Income\"].quantile([0.25,0.5,0.75])"
      ],
      "metadata": {
        "colab": {
          "base_uri": "https://localhost:8080/"
        },
        "id": "gXYbE-aA31Mg",
        "outputId": "b849b7fb-4160-4fd2-f61b-7f315e6e8066"
      },
      "execution_count": 12,
      "outputs": [
        {
          "output_type": "execute_result",
          "data": {
            "text/plain": [
              "0.25     90.0\n",
              "0.50    124.0\n",
              "0.75    170.0\n",
              "Name: Income, dtype: float64"
            ]
          },
          "metadata": {},
          "execution_count": 12
        }
      ]
    },
    {
      "cell_type": "code",
      "source": [
        "data['Job'].value_counts().plot(kind='pie', figsize=(6,6))"
      ],
      "metadata": {
        "colab": {
          "base_uri": "https://localhost:8080/",
          "height": 375
        },
        "id": "2pVbDUX44A88",
        "outputId": "cc1b9319-3f8e-49aa-a62f-42f7220014f5"
      },
      "execution_count": 13,
      "outputs": [
        {
          "output_type": "execute_result",
          "data": {
            "text/plain": [
              "<matplotlib.axes._subplots.AxesSubplot at 0x7f0f3e675850>"
            ]
          },
          "metadata": {},
          "execution_count": 13
        },
        {
          "output_type": "display_data",
          "data": {
            "text/plain": [
              "<Figure size 432x432 with 1 Axes>"
            ],
            "image/png": "[encoded data removed]"
          },
          "metadata": {}
        }
      ]
    },
    {
      "cell_type": "code",
      "source": [
        "data['Marital'].value_counts().plot(kind='pie', figsize=(6,6))"
      ],
      "metadata": {
        "colab": {
          "base_uri": "https://localhost:8080/",
          "height": 375
        },
        "id": "jOWK8RbW5LY5",
        "outputId": "34c0e422-4502-43b7-ac71-264d2ab2954f"
      },
      "execution_count": 15,
      "outputs": [
        {
          "output_type": "execute_result",
          "data": {
            "text/plain": [
              "<matplotlib.axes._subplots.AxesSubplot at 0x7f0f3e114e10>"
            ]
          },
          "metadata": {},
          "execution_count": 15
        },
        {
          "output_type": "display_data",
          "data": {
            "text/plain": [
              "<Figure size 432x432 with 1 Axes>"
            ],
            "image/png": "[encoded data removed]"
          },
          "metadata": {}
        }
      ]
    },
    {
      "cell_type": "markdown",
      "source": [
        "#Bivariate Analysis"
      ],
      "metadata": {
        "id": "OZ_Nag4k41ec"
      }
    },
    {
      "cell_type": "code",
      "source": [
        "import numpy as np\n",
        "\n",
        "np.corrcoef(data['Amount'], data['Income'])"
      ],
      "metadata": {
        "colab": {
          "base_uri": "https://localhost:8080/"
        },
        "id": "pV7rdu1r4WAX",
        "outputId": "3339d3eb-efdd-40e4-c330-4156cb8bf6b0"
      },
      "execution_count": 16,
      "outputs": [
        {
          "output_type": "execute_result",
          "data": {
            "text/plain": [
              "array([[1.        , 0.19082011],\n",
              "       [0.19082011, 1.        ]])"
            ]
          },
          "metadata": {},
          "execution_count": 16
        }
      ]
    },
    {
      "cell_type": "code",
      "source": [
        "from sklearn.linear_model import LinearRegression"
      ],
      "metadata": {
        "id": "BX_surmB6tp0"
      },
      "execution_count": 17,
      "outputs": []
    },
    {
      "cell_type": "code",
      "source": [
        "#implement a linear regression of Amount = a*Income+b\n",
        "\n",
        "model = LinearRegression().fit(np.array(data['Income']).reshape(4446,1),\n",
        "                               np.array(data['Amount']).reshape(4446,1))"
      ],
      "metadata": {
        "id": "kmbv_9d161BK"
      },
      "execution_count": 18,
      "outputs": []
    },
    {
      "cell_type": "code",
      "source": [
        "model.predict([[100]])"
      ],
      "metadata": {
        "colab": {
          "base_uri": "https://localhost:8080/"
        },
        "id": "QbNoCLLU7ZsT",
        "outputId": "3ce2dbcb-2e27-412f-b747-3c2e56357e71"
      },
      "execution_count": 19,
      "outputs": [
        {
          "output_type": "execute_result",
          "data": {
            "text/plain": [
              "array([[992.85657904]])"
            ]
          },
          "metadata": {},
          "execution_count": 19
        }
      ]
    },
    {
      "cell_type": "code",
      "source": [
        "model.predict([[300]])"
      ],
      "metadata": {
        "colab": {
          "base_uri": "https://localhost:8080/"
        },
        "id": "2RfS1pT97dcC",
        "outputId": "b42ebdd5-e681-40a2-c074-cfd16ba944af"
      },
      "execution_count": 20,
      "outputs": [
        {
          "output_type": "execute_result",
          "data": {
            "text/plain": [
              "array([[1218.83271896]])"
            ]
          },
          "metadata": {},
          "execution_count": 20
        }
      ]
    },
    {
      "cell_type": "code",
      "source": [
        "model.predict([[400]])"
      ],
      "metadata": {
        "colab": {
          "base_uri": "https://localhost:8080/"
        },
        "id": "oicFmEJc7gW0",
        "outputId": "a17eca38-9d61-4ab3-a6de-3c34df6c8f53"
      },
      "execution_count": 21,
      "outputs": [
        {
          "output_type": "execute_result",
          "data": {
            "text/plain": [
              "array([[1331.82078891]])"
            ]
          },
          "metadata": {},
          "execution_count": 21
        }
      ]
    },
    {
      "cell_type": "code",
      "source": [
        "print('intercept:', model.intercept_)\n",
        "print('coef:', model.coef_)"
      ],
      "metadata": {
        "colab": {
          "base_uri": "https://localhost:8080/"
        },
        "id": "MJXweFd37ia8",
        "outputId": "53428b8c-06f1-4606-ffaf-ebc8367317f0"
      },
      "execution_count": 22,
      "outputs": [
        {
          "output_type": "stream",
          "name": "stdout",
          "text": [
            "intercept: [879.86850909]\n",
            "coef: [[1.1298807]]\n"
          ]
        }
      ]
    },
    {
      "cell_type": "markdown",
      "source": [
        "The expression of this regression will be expressed as:\n",
        "\n",
        "Income = model.intercept_ + model.coef_ * Amount\n",
        "\n",
        "this will be tested below"
      ],
      "metadata": {
        "id": "oqVMCA2R74w4"
      }
    },
    {
      "cell_type": "code",
      "source": [
        "test_at_100 = 879.86850909 + 1.1298807 * 100\n",
        "\n",
        "test_at_100"
      ],
      "metadata": {
        "colab": {
          "base_uri": "https://localhost:8080/"
        },
        "id": "3WKnuSn472Sf",
        "outputId": "0c208ae5-c274-4f35-af2f-97619c0183c2"
      },
      "execution_count": 24,
      "outputs": [
        {
          "output_type": "execute_result",
          "data": {
            "text/plain": [
              "992.85657909"
            ]
          },
          "metadata": {},
          "execution_count": 24
        }
      ]
    },
    {
      "cell_type": "code",
      "source": [
        "test_at_350 = 879.86850909 + 1.1298807 * 350\n",
        "\n",
        "test_at_350"
      ],
      "metadata": {
        "colab": {
          "base_uri": "https://localhost:8080/"
        },
        "id": "2jY5AhW18IXf",
        "outputId": "084a9d2d-3a0c-44b8-f189-9bd7ec6a2049"
      },
      "execution_count": 25,
      "outputs": [
        {
          "output_type": "execute_result",
          "data": {
            "text/plain": [
              "1275.32675409"
            ]
          },
          "metadata": {},
          "execution_count": 25
        }
      ]
    },
    {
      "cell_type": "markdown",
      "source": [
        "##Multivariate Analysis"
      ],
      "metadata": {
        "id": "zmSWrbIR8vAV"
      }
    },
    {
      "cell_type": "code",
      "source": [
        "from sklearn.preprocessing import StandardScaler"
      ],
      "metadata": {
        "id": "5DOsSmDI8PxD"
      },
      "execution_count": 28,
      "outputs": []
    },
    {
      "cell_type": "code",
      "source": [
        "#Data Standardization\n",
        "\n",
        "features = ['Seniority',\t'Time',\t'Age',\t'Expenses',\t'Income',\t'Assets',\t'Debt',\t'Amount', 'Price']\n",
        "# extracting out the features\n",
        "x = data.loc[:, features].values\n",
        "# Standardizing the features\n",
        "x_standardized = StandardScaler().fit_transform(x)\n",
        "x_standardized"
      ],
      "metadata": {
        "colab": {
          "base_uri": "https://localhost:8080/"
        },
        "id": "Rp6i6Ool85wV",
        "outputId": "2b8deec4-270d-44d6-a56e-faa1da341611"
      },
      "execution_count": 29,
      "outputs": [
        {
          "output_type": "execute_result",
          "data": {
            "text/plain": [
              "array([[ 0.12336287,  0.92491136, -0.64488271, ..., -0.27500368,\n",
              "        -0.50298319, -0.98090001],\n",
              "       [ 1.10190227,  0.92491136,  1.90401744, ..., -0.27500368,\n",
              "        -0.08165963,  0.31109689],\n",
              "       [ 0.2456803 , -0.71372418,  0.81163166, ..., -0.27500368,\n",
              "         2.02495816,  2.42252532],\n",
              "       ...,\n",
              "       [-0.97749395, -1.53304195, -0.00765768, ..., -0.27500368,\n",
              "        -1.13496853, -0.79473789],\n",
              "       [-0.97749395,  0.10559359, -1.28210775, ..., -0.27500368,\n",
              "        -1.02963764, -1.45187425],\n",
              "       [-0.36590683,  0.92491136, -0.46281842, ...,  0.52849665,\n",
              "         0.65565659,  0.29836786]])"
            ]
          },
          "metadata": {},
          "execution_count": 29
        }
      ]
    },
    {
      "cell_type": "code",
      "source": [
        "#Computation of  covariance matrix\n",
        "\n",
        "import numpy as np\n",
        "cov_data = np.corrcoef(x.T)\n",
        "cov_data"
      ],
      "metadata": {
        "colab": {
          "base_uri": "https://localhost:8080/"
        },
        "id": "lQ5ei8ML-Zc6",
        "outputId": "75ec4e4b-b404-4499-f2f7-571a6c7fd317"
      },
      "execution_count": 30,
      "outputs": [
        {
          "output_type": "execute_result",
          "data": {
            "text/plain": [
              "array([[ 1.        , -0.02187363,  0.50608874,  0.12568047,  0.12122411,\n",
              "         0.12424073, -0.01934661, -0.00763935,  0.04112198],\n",
              "       [-0.02187363,  1.        , -0.05184996, -0.00171714, -0.02991524,\n",
              "        -0.0830177 ,  0.05826747,  0.43085832,  0.12967683],\n",
              "       [ 0.50608874, -0.05184996,  1.        ,  0.24813694,  0.14755649,\n",
              "         0.18098586, -0.04618789,  0.02903078,  0.04868519],\n",
              "       [ 0.12568047, -0.00171714,  0.24813694,  1.        ,  0.25500519,\n",
              "         0.01893457,  0.01477083,  0.04953912,  0.04072803],\n",
              "       [ 0.12122411, -0.02991524,  0.14755649,  0.25500519,  1.        ,\n",
              "         0.21911198,  0.14469675,  0.19082011,  0.21778928],\n",
              "       [ 0.12424073, -0.0830177 ,  0.18098586,  0.01893457,  0.21911198,\n",
              "         1.        ,  0.19161949,  0.14428376,  0.19489363],\n",
              "       [-0.01934661,  0.05826747, -0.04618789,  0.01477083,  0.14469675,\n",
              "         0.19161949,  1.        ,  0.05090225,  0.04391706],\n",
              "       [-0.00763935,  0.43085832,  0.02903078,  0.04953912,  0.19082011,\n",
              "         0.14428376,  0.05090225,  1.        ,  0.72502542],\n",
              "       [ 0.04112198,  0.12967683,  0.04868519,  0.04072803,  0.21778928,\n",
              "         0.19489363,  0.04391706,  0.72502542,  1.        ]])"
            ]
          },
          "metadata": {},
          "execution_count": 30
        }
      ]
    },
    {
      "cell_type": "code",
      "source": [
        "#Now, let’s plot the covariance matrix to identify the correlation between features using a heatmap:\n",
        "\n",
        "import matplotlib.pyplot as plt\n",
        "img = plt.matshow(cov_data, cmap=plt.cm.rainbow)\n",
        "plt.colorbar(img, ticks = [-1, 0, 1], fraction=0.045)\n",
        "for x in range(cov_data.shape[0]):\n",
        "    for y in range(cov_data.shape[1]):\n",
        "        plt.text(x, y, \"%0.2f\" % cov_data[x,y], size=9, color='black', ha=\"center\", va=\"center\")\n",
        "        \n",
        "plt.show"
      ],
      "metadata": {
        "colab": {
          "base_uri": "https://localhost:8080/",
          "height": 271
        },
        "id": "5zr1gWVW-zGp",
        "outputId": "031402e5-5b4e-49fc-bc39-0ba3c5415528"
      },
      "execution_count": 31,
      "outputs": [
        {
          "output_type": "execute_result",
          "data": {
            "text/plain": [
              "<function matplotlib.pyplot.show(*args, **kw)>"
            ]
          },
          "metadata": {},
          "execution_count": 31
        },
        {
          "output_type": "display_data",
          "data": {
            "text/plain": [
              "<Figure size 288x288 with 2 Axes>"
            ],
            "image/png": "[encoded data removed]"
          },
          "metadata": {
            "needs_background": "light"
          }
        }
      ]
    },
    {
      "cell_type": "markdown",
      "source": [
        "PCA Projection to 2D\n",
        "\n",
        "The original data has 9 columns ('Seniority',\t'Time',\t'Age',\t'Expenses',\t'Income',\t'Assets',\t'Debt',\t'Amount', 'Price'). In this step, we will project the original data which is 4 dimensional into 2 dimensions."
      ],
      "metadata": {
        "id": "g6rb-11Q_Gtx"
      }
    },
    {
      "cell_type": "code",
      "source": [
        "from sklearn.decomposition import PCA\n",
        "pca = PCA(n_components=2)\n",
        "principal_components=pca.fit_transform(x_standardized)\n",
        "principalDF=pd.DataFrame(data=principal_components, columns= ['principal component 1', 'principal component 2'])\n",
        "finalDf = pd.concat([principalDF, data[['Marital']]], axis = 1)\n",
        "finalDf"
      ],
      "metadata": {
        "colab": {
          "base_uri": "https://localhost:8080/",
          "height": 423
        },
        "id": "gLqE1i4a-8Od",
        "outputId": "8a29cfea-206c-48a3-dcb5-d80a3d1363fa"
      },
      "execution_count": 33,
      "outputs": [
        {
          "output_type": "execute_result",
          "data": {
            "text/plain": [
              "      principal component 1  principal component 2  Marital\n",
              "0                 -0.755677              -0.008195  married\n",
              "1                  0.747725              -0.949291    widow\n",
              "2                  2.975475              -0.036636  married\n",
              "3                 -0.432102               1.094926   single\n",
              "4                 -2.336752               0.236744   single\n",
              "...                     ...                    ...      ...\n",
              "4441              -0.712440               0.332981  married\n",
              "4442               0.240303              -0.965412  married\n",
              "4443              -1.837040              -0.638013  married\n",
              "4444              -2.072477               0.590657   single\n",
              "4445               0.591568               1.046985  married\n",
              "\n",
              "[4446 rows x 3 columns]"
            ],
            "text/html": [
              "\n",
              "  <div id=\"df-139e1750-e59e-4f70-b88e-add269d3b3bf\">\n",
              "    <div class=\"colab-df-container\">\n",
              "      <div>\n",
              "<style scoped>\n",
              "    .dataframe tbody tr th:only-of-type {\n",
              "        vertical-align: middle;\n",
              "    }\n",
              "\n",
              "    .dataframe tbody tr th {\n",
              "        vertical-align: top;\n",
              "    }\n",
              "\n",
              "    .dataframe thead th {\n",
              "        text-align: right;\n",
              "    }\n",
              "</style>\n",
              "<table border=\"1\" class=\"dataframe\">\n",
              "  <thead>\n",
              "    <tr style=\"text-align: right;\">\n",
              "      <th></th>\n",
              "      <th>principal component 1</th>\n",
              "      <th>principal component 2</th>\n",
              "      <th>Marital</th>\n",
              "    </tr>\n",
              "  </thead>\n",
              "  <tbody>\n",
              "    <tr>\n",
              "      <th>0</th>\n",
              "      <td>-0.755677</td>\n",
              "      <td>-0.008195</td>\n",
              "      <td>married</td>\n",
              "    </tr>\n",
              "    <tr>\n",
              "      <th>1</th>\n",
              "      <td>0.747725</td>\n",
              "      <td>-0.949291</td>\n",
              "      <td>widow</td>\n",
              "    </tr>\n",
              "    <tr>\n",
              "      <th>2</th>\n",
              "      <td>2.975475</td>\n",
              "      <td>-0.036636</td>\n",
              "      <td>married</td>\n",
              "    </tr>\n",
              "    <tr>\n",
              "      <th>3</th>\n",
              "      <td>-0.432102</td>\n",
              "      <td>1.094926</td>\n",
              "      <td>single</td>\n",
              "    </tr>\n",
              "    <tr>\n",
              "      <th>4</th>\n",
              "      <td>-2.336752</td>\n",
              "      <td>0.236744</td>\n",
              "      <td>single</td>\n",
              "    </tr>\n",
              "    <tr>\n",
              "      <th>...</th>\n",
              "      <td>...</td>\n",
              "      <td>...</td>\n",
              "      <td>...</td>\n",
              "    </tr>\n",
              "    <tr>\n",
              "      <th>4441</th>\n",
              "      <td>-0.712440</td>\n",
              "      <td>0.332981</td>\n",
              "      <td>married</td>\n",
              "    </tr>\n",
              "    <tr>\n",
              "      <th>4442</th>\n",
              "      <td>0.240303</td>\n",
              "      <td>-0.965412</td>\n",
              "      <td>married</td>\n",
              "    </tr>\n",
              "    <tr>\n",
              "      <th>4443</th>\n",
              "      <td>-1.837040</td>\n",
              "      <td>-0.638013</td>\n",
              "      <td>married</td>\n",
              "    </tr>\n",
              "    <tr>\n",
              "      <th>4444</th>\n",
              "      <td>-2.072477</td>\n",
              "      <td>0.590657</td>\n",
              "      <td>single</td>\n",
              "    </tr>\n",
              "    <tr>\n",
              "      <th>4445</th>\n",
              "      <td>0.591568</td>\n",
              "      <td>1.046985</td>\n",
              "      <td>married</td>\n",
              "    </tr>\n",
              "  </tbody>\n",
              "</table>\n",
              "<p>4446 rows × 3 columns</p>\n",
              "</div>\n",
              "      <button class=\"colab-df-convert\" onclick=\"convertToInteractive('df-139e1750-e59e-4f70-b88e-add269d3b3bf')\"\n",
              "              title=\"Convert this dataframe to an interactive table.\"\n",
              "              style=\"display:none;\">\n",
              "        \n",
              "  <svg xmlns=\"http://www.w3.org/2000/svg\" height=\"24px\"viewBox=\"0 0 24 24\"\n",
              "       width=\"24px\">\n",
              "    <path d=\"M0 0h24v24H0V0z\" fill=\"none\"/>\n",
              "    <path d=\"M18.56 5.44l.94 2.06.94-2.06 2.06-.94-2.06-.94-.94-2.06-.94 2.06-2.06.94zm-11 1L8.5 8.5l.94-2.06 2.06-.94-2.06-.94L8.5 2.5l-.94 2.06-2.06.94zm10 10l.94 2.06.94-2.06 2.06-.94-2.06-.94-.94-2.06-.94 2.06-2.06.94z\"/><path d=\"M17.41 7.96l-1.37-1.37c-.4-.4-.92-.59-1.43-.59-.52 0-1.04.2-1.43.59L10.3 9.45l-7.72 7.72c-.78.78-.78 2.05 0 2.83L4 21.41c.39.39.9.59 1.41.59.51 0 1.02-.2 1.41-.59l7.78-7.78 2.81-2.81c.8-.78.8-2.07 0-2.86zM5.41 20L4 18.59l7.72-7.72 1.47 1.35L5.41 20z\"/>\n",
              "  </svg>\n",
              "      </button>\n",
              "      \n",
              "  <style>\n",
              "    .colab-df-container {\n",
              "      display:flex;\n",
              "      flex-wrap:wrap;\n",
              "      gap: 12px;\n",
              "    }\n",
              "\n",
              "    .colab-df-convert {\n",
              "      background-color: #E8F0FE;\n",
              "      border: none;\n",
              "      border-radius: 50%;\n",
              "      cursor: pointer;\n",
              "      display: none;\n",
              "      fill: #1967D2;\n",
              "      height: 32px;\n",
              "      padding: 0 0 0 0;\n",
              "      width: 32px;\n",
              "    }\n",
              "\n",
              "    .colab-df-convert:hover {\n",
              "      background-color: #E2EBFA;\n",
              "      box-shadow: 0px 1px 2px rgba(60, 64, 67, 0.3), 0px 1px 3px 1px rgba(60, 64, 67, 0.15);\n",
              "      fill: #174EA6;\n",
              "    }\n",
              "\n",
              "    [theme=dark] .colab-df-convert {\n",
              "      background-color: #3B4455;\n",
              "      fill: #D2E3FC;\n",
              "    }\n",
              "\n",
              "    [theme=dark] .colab-df-convert:hover {\n",
              "      background-color: #434B5C;\n",
              "      box-shadow: 0px 1px 3px 1px rgba(0, 0, 0, 0.15);\n",
              "      filter: drop-shadow(0px 1px 2px rgba(0, 0, 0, 0.3));\n",
              "      fill: #FFFFFF;\n",
              "    }\n",
              "  </style>\n",
              "\n",
              "      <script>\n",
              "        const buttonEl =\n",
              "          document.querySelector('#df-139e1750-e59e-4f70-b88e-add269d3b3bf button.colab-df-convert');\n",
              "        buttonEl.style.display =\n",
              "          google.colab.kernel.accessAllowed ? 'block' : 'none';\n",
              "\n",
              "        async function convertToInteractive(key) {\n",
              "          const element = document.querySelector('#df-139e1750-e59e-4f70-b88e-add269d3b3bf');\n",
              "          const dataTable =\n",
              "            await google.colab.kernel.invokeFunction('convertToInteractive',\n",
              "                                                     [key], {});\n",
              "          if (!dataTable) return;\n",
              "\n",
              "          const docLinkHtml = 'Like what you see? Visit the ' +\n",
              "            '<a target=\"_blank\" href=https://colab.research.google.com/notebooks/data_table.ipynb>data table notebook</a>'\n",
              "            + ' to learn more about interactive tables.';\n",
              "          element.innerHTML = '';\n",
              "          dataTable['output_type'] = 'display_data';\n",
              "          await google.colab.output.renderOutput(dataTable, element);\n",
              "          const docLink = document.createElement('div');\n",
              "          docLink.innerHTML = docLinkHtml;\n",
              "          element.appendChild(docLink);\n",
              "        }\n",
              "      </script>\n",
              "    </div>\n",
              "  </div>\n",
              "  "
            ]
          },
          "metadata": {},
          "execution_count": 33
        }
      ]
    },
    {
      "cell_type": "markdown",
      "source": [
        "Final visualization of PCA\n",
        "\n",
        "And finally, we are going to plot 2 dimensional data after reduction."
      ],
      "metadata": {
        "id": "oRvClcQ-AFTf"
      }
    },
    {
      "cell_type": "code",
      "source": [
        "fig = plt.figure(figsize = (8,8))\n",
        "ax = fig.add_subplot(1,1,1) \n",
        "ax.set_xlabel('Principal Component 1', fontsize = 15)\n",
        "ax.set_ylabel('Principal Component 2', fontsize = 15)\n",
        "ax.set_title('2 component PCA', fontsize = 20)\n",
        "targets = ['single', 'married', 'widow']\n",
        "colors = ['r', 'g', 'b']\n",
        "for target, color in zip(targets,colors):\n",
        "    indicesToKeep = finalDf['Marital'] == target\n",
        "    ax.scatter(finalDf.loc[indicesToKeep, 'principal component 1']\n",
        "               , finalDf.loc[indicesToKeep, 'principal component 2']\n",
        "               , c = color\n",
        "               , s = 50)\n",
        "ax.legend(targets)\n",
        "ax.grid()"
      ],
      "metadata": {
        "colab": {
          "base_uri": "https://localhost:8080/",
          "height": 523
        },
        "id": "9G4kGXua_h_D",
        "outputId": "a7d1ad10-0df3-477f-82bb-a206fc763a72"
      },
      "execution_count": 34,
      "outputs": [
        {
          "output_type": "display_data",
          "data": {
            "text/plain": [
              "<Figure size 576x576 with 1 Axes>"
            ],
            "image/png": "[encoded data removed]"
          },
          "metadata": {
            "needs_background": "light"
          }
        }
      ]
    },
    {
      "cell_type": "code",
      "source": [
        "pip install prince"
      ],
      "metadata": {
        "colab": {
          "base_uri": "https://localhost:8080/"
        },
        "id": "dg0mL31-Acto",
        "outputId": "095618f7-69eb-4aef-93d7-0a58dd344bd9"
      },
      "execution_count": 35,
      "outputs": [
        {
          "output_type": "stream",
          "name": "stdout",
          "text": [
            "Looking in indexes: https://pypi.org/simple, https://us-python.pkg.dev/colab-wheels/public/simple/\n",
            "Collecting prince\n",
            "  Downloading prince-0.7.1-py3-none-any.whl (21 kB)\n",
            "Requirement already satisfied: matplotlib>=3.0.2 in /usr/local/lib/python3.7/dist-packages (from prince) (3.2.2)\n",
            "Requirement already satisfied: numpy>=1.17.1 in /usr/local/lib/python3.7/dist-packages (from prince) (1.21.6)\n",
            "Requirement already satisfied: pandas>=1.0.3 in /usr/local/lib/python3.7/dist-packages (from prince) (1.3.5)\n",
            "Requirement already satisfied: scikit-learn>=0.22.1 in /usr/local/lib/python3.7/dist-packages (from prince) (1.0.2)\n",
            "Requirement already satisfied: scipy>=1.3.0 in /usr/local/lib/python3.7/dist-packages (from prince) (1.7.3)\n",
            "Requirement already satisfied: pyparsing!=2.0.4,!=2.1.2,!=2.1.6,>=2.0.1 in /usr/local/lib/python3.7/dist-packages (from matplotlib>=3.0.2->prince) (3.0.9)\n",
            "Requirement already satisfied: cycler>=0.10 in /usr/local/lib/python3.7/dist-packages (from matplotlib>=3.0.2->prince) (0.11.0)\n",
            "Requirement already satisfied: kiwisolver>=1.0.1 in /usr/local/lib/python3.7/dist-packages (from matplotlib>=3.0.2->prince) (1.4.4)\n",
            "Requirement already satisfied: python-dateutil>=2.1 in /usr/local/lib/python3.7/dist-packages (from matplotlib>=3.0.2->prince) (2.8.2)\n",
            "Requirement already satisfied: typing-extensions in /usr/local/lib/python3.7/dist-packages (from kiwisolver>=1.0.1->matplotlib>=3.0.2->prince) (4.1.1)\n",
            "Requirement already satisfied: pytz>=2017.3 in /usr/local/lib/python3.7/dist-packages (from pandas>=1.0.3->prince) (2022.5)\n",
            "Requirement already satisfied: six>=1.5 in /usr/local/lib/python3.7/dist-packages (from python-dateutil>=2.1->matplotlib>=3.0.2->prince) (1.15.0)\n",
            "Requirement already satisfied: threadpoolctl>=2.0.0 in /usr/local/lib/python3.7/dist-packages (from scikit-learn>=0.22.1->prince) (3.1.0)\n",
            "Requirement already satisfied: joblib>=0.11 in /usr/local/lib/python3.7/dist-packages (from scikit-learn>=0.22.1->prince) (1.2.0)\n",
            "Installing collected packages: prince\n",
            "Successfully installed prince-0.7.1\n"
          ]
        }
      ]
    },
    {
      "cell_type": "code",
      "source": [
        "import prince as pr"
      ],
      "metadata": {
        "id": "BmIcPODBBsM1"
      },
      "execution_count": 37,
      "outputs": []
    },
    {
      "cell_type": "code",
      "source": [
        "cat_features = ['Status',\t'Home',\t'Marital',\t'Records',\t'Job']\n",
        "# extracting out the features\n",
        "cat_data = data.loc[:, cat_features].values\n",
        "print(cat_data)\n",
        "# cat_data = pd.DataFrame(cat_data, columns=cat_features)\n",
        "# cat_data.head()"
      ],
      "metadata": {
        "colab": {
          "base_uri": "https://localhost:8080/"
        },
        "id": "r_EQQja1DEHs",
        "outputId": "59c6be44-8541-4051-996f-89391bf9a690"
      },
      "execution_count": 63,
      "outputs": [
        {
          "output_type": "stream",
          "name": "stdout",
          "text": [
            "[['good' 'rent' 'married' 'no_rec' 'freelance']\n",
            " ['good' 'rent' 'widow' 'no_rec' 'fixed']\n",
            " ['bad' 'owner' 'married' 'yes_rec' 'freelance']\n",
            " ...\n",
            " ['bad' 'owner' 'married' 'no_rec' 'partime']\n",
            " ['good' 'rent' 'single' 'no_rec' 'freelance']\n",
            " ['good' 'owner' 'married' 'no_rec' 'freelance']]\n"
          ]
        }
      ]
    },
    {
      "cell_type": "code",
      "source": [
        "mca = pr.MCA(n_components=2, n_iter=3,copy=True,check_input=True,engine='auto',random_state=42)\n",
        "mca = mca.fit(cat_data)\n",
        "mca"
      ],
      "metadata": {
        "colab": {
          "base_uri": "https://localhost:8080/"
        },
        "id": "kxFw54IABYkp",
        "outputId": "2b47aaa4-29e4-43c0-9b32-6fd4a6df239e"
      },
      "execution_count": 64,
      "outputs": [
        {
          "output_type": "execute_result",
          "data": {
            "text/plain": [
              "MCA(n_iter=3, random_state=42)"
            ]
          },
          "metadata": {},
          "execution_count": 64
        }
      ]
    },
    {
      "cell_type": "code",
      "source": [
        "\n",
        "ax = mca.plot_coordinates(cat_data)"
      ],
      "metadata": {
        "colab": {
          "base_uri": "https://localhost:8080/",
          "height": 404
        },
        "id": "NXy8LFF9BmLL",
        "outputId": "244da5f6-05dc-4349-e270-862eeac90563"
      },
      "execution_count": 65,
      "outputs": [
        {
          "output_type": "display_data",
          "data": {
            "text/plain": [
              "<Figure size 432x432 with 1 Axes>"
            ],
            "image/png": "[encoded data removed]"
          },
          "metadata": {
            "needs_background": "light"
          }
        }
      ]
    },
    {
      "cell_type": "code",
      "source": [],
      "metadata": {
        "id": "xPv6pB8THNMo"
      },
      "execution_count": null,
      "outputs": []
    }
  ]
}